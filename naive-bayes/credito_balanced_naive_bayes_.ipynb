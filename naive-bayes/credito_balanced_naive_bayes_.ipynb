{
  "nbformat": 4,
  "nbformat_minor": 0,
  "metadata": {
    "colab": {
      "provenance": []
    },
    "kernelspec": {
      "name": "python3",
      "display_name": "Python 3"
    },
    "language_info": {
      "name": "python"
    }
  },
  "cells": [
    {
      "cell_type": "code",
      "execution_count": 3,
      "metadata": {
        "id": "D3rGHOyoFpIu"
      },
      "outputs": [],
      "source": [
        "import pickle\n",
        "import pandas as pd\n",
        "import matplotlib.pyplot as plt\n",
        "import seaborn as sns"
      ]
    },
    {
      "cell_type": "code",
      "source": [
        "with open('/content/drive/MyDrive/Colab Notebooks/credit.pkl', 'rb') as f:\n",
        "  X_credit_train, y_credit_train, X_credit_test, y_credit_test = pickle.load(f)"
      ],
      "metadata": {
        "id": "xMuL_wAZJkoc"
      },
      "execution_count": 4,
      "outputs": []
    },
    {
      "cell_type": "code",
      "source": [
        "X_credit_train.shape, y_credit_train.shape"
      ],
      "metadata": {
        "colab": {
          "base_uri": "https://localhost:8080/"
        },
        "id": "47TshqbjV5BW",
        "outputId": "32a87131-156b-47bf-dc70-f5103affc163"
      },
      "execution_count": 5,
      "outputs": [
        {
          "output_type": "execute_result",
          "data": {
            "text/plain": [
              "((27693, 3), (27693,))"
            ]
          },
          "metadata": {},
          "execution_count": 5
        }
      ]
    },
    {
      "cell_type": "code",
      "source": [
        "plt.hist(y_credit_train);"
      ],
      "metadata": {
        "colab": {
          "base_uri": "https://localhost:8080/",
          "height": 430
        },
        "id": "ndwnkIjtWAnp",
        "outputId": "843edb52-5f4e-4007-fbcb-04b3f4b06886"
      },
      "execution_count": 7,
      "outputs": [
        {
          "output_type": "display_data",
          "data": {
            "text/plain": [
              "<Figure size 640x480 with 1 Axes>"
            ],
            "image/png": "[encoded data removed]"
          },
          "metadata": {}
        }
      ]
    },
    {
      "cell_type": "code",
      "source": [
        "from imblearn.over_sampling import SMOTE\n",
        "\n",
        "smt = SMOTE(random_state=123)\n",
        "X_credit_train_balanced, y_credit_train_balanced = smt.fit_resample(X_credit_train, y_credit_train)"
      ],
      "metadata": {
        "id": "q6h88ou1WUK5"
      },
      "execution_count": 20,
      "outputs": []
    },
    {
      "cell_type": "code",
      "source": [
        "plt.hist(y_credit_train_balanced);"
      ],
      "metadata": {
        "colab": {
          "base_uri": "https://localhost:8080/",
          "height": 430
        },
        "id": "wl2_GjyrWyLB",
        "outputId": "bfe908cf-e15a-4bf5-c870-26f6faffe96b"
      },
      "execution_count": 21,
      "outputs": [
        {
          "output_type": "display_data",
          "data": {
            "text/plain": [
              "<Figure size 640x480 with 1 Axes>"
            ],
            "image/png": "[encoded data removed]"
          },
          "metadata": {}
        }
      ]
    },
    {
      "cell_type": "code",
      "source": [
        "X_credit_train_balanced.shape, y_credit_train_balanced.shape"
      ],
      "metadata": {
        "colab": {
          "base_uri": "https://localhost:8080/"
        },
        "id": "-5Rvxk5xXBwT",
        "outputId": "df783700-08ab-464e-86cd-7705f4bb5095"
      },
      "execution_count": 22,
      "outputs": [
        {
          "output_type": "execute_result",
          "data": {
            "text/plain": [
              "((43184, 3), (43184,))"
            ]
          },
          "metadata": {},
          "execution_count": 22
        }
      ]
    },
    {
      "cell_type": "code",
      "source": [
        "from sklearn.naive_bayes import GaussianNB"
      ],
      "metadata": {
        "id": "6B6Lz8BqXQu4"
      },
      "execution_count": 23,
      "outputs": []
    },
    {
      "cell_type": "code",
      "source": [
        "nb_credit_model = GaussianNB()\n",
        "nb_credit_model.fit(X_credit_train_balanced, y_credit_train_balanced)\n",
        "previsoes = nb_credit_model.predict(X_credit_test)"
      ],
      "metadata": {
        "id": "ga9yKrkBXcDC"
      },
      "execution_count": 41,
      "outputs": []
    },
    {
      "cell_type": "code",
      "source": [
        "from sklearn.metrics import accuracy_score, confusion_matrix, classification_report"
      ],
      "metadata": {
        "id": "cFKVR5QGX_sT"
      },
      "execution_count": 42,
      "outputs": []
    },
    {
      "cell_type": "code",
      "source": [
        "accuracy_score(y_credit_test, previsoes)"
      ],
      "metadata": {
        "colab": {
          "base_uri": "https://localhost:8080/"
        },
        "id": "Cq4kfTTJYMDK",
        "outputId": "49f04abe-65fd-4aa2-9357-17d36100de7c"
      },
      "execution_count": 43,
      "outputs": [
        {
          "output_type": "execute_result",
          "data": {
            "text/plain": [
              "0.3617021276595745"
            ]
          },
          "metadata": {},
          "execution_count": 43
        }
      ]
    },
    {
      "cell_type": "code",
      "source": [
        "confusion_matrix(y_credit_test, previsoes)"
      ],
      "metadata": {
        "colab": {
          "base_uri": "https://localhost:8080/"
        },
        "id": "tzQdOZbhYYwN",
        "outputId": "79fc0dee-32d7-48bd-eaba-42de4710da4a"
      },
      "execution_count": 44,
      "outputs": [
        {
          "output_type": "execute_result",
          "data": {
            "text/plain": [
              "array([[ 826, 3055],\n",
              "       [  65,  942]])"
            ]
          },
          "metadata": {},
          "execution_count": 44
        }
      ]
    },
    {
      "cell_type": "code",
      "source": [
        "print(classification_report(y_credit_test, previsoes))"
      ],
      "metadata": {
        "colab": {
          "base_uri": "https://localhost:8080/"
        },
        "id": "gK5WzLjdYjjW",
        "outputId": "a7837fde-3da8-48a3-b28b-6cab48f6560c"
      },
      "execution_count": 45,
      "outputs": [
        {
          "output_type": "stream",
          "name": "stdout",
          "text": [
            "              precision    recall  f1-score   support\n",
            "\n",
            "           0       0.93      0.21      0.35      3881\n",
            "           1       0.24      0.94      0.38      1007\n",
            "\n",
            "    accuracy                           0.36      4888\n",
            "   macro avg       0.58      0.57      0.36      4888\n",
            "weighted avg       0.78      0.36      0.35      4888\n",
            "\n"
          ]
        }
      ]
    },
    {
      "cell_type": "code",
      "source": [
        "from imblearn.under_sampling import RandomUnderSampler"
      ],
      "metadata": {
        "id": "ehQZviRjbfcD"
      },
      "execution_count": 46,
      "outputs": []
    },
    {
      "cell_type": "code",
      "source": [
        "rus = RandomUnderSampler(random_state=0)\n",
        "X_credit_train_under, y_credit_train_under = rus.fit_resample(X_credit_train, y_credit_train)"
      ],
      "metadata": {
        "id": "QAp_kpWhbr9j"
      },
      "execution_count": 49,
      "outputs": []
    },
    {
      "cell_type": "code",
      "source": [
        "X_credit_train_under.shape, y_credit_train_under.shape"
      ],
      "metadata": {
        "colab": {
          "base_uri": "https://localhost:8080/"
        },
        "id": "h0IfR8nHcbBF",
        "outputId": "d7082d4f-4967-4358-ae93-e96c7f8f1320"
      },
      "execution_count": 51,
      "outputs": [
        {
          "output_type": "execute_result",
          "data": {
            "text/plain": [
              "((12202, 3), (12202,))"
            ]
          },
          "metadata": {},
          "execution_count": 51
        }
      ]
    },
    {
      "cell_type": "code",
      "source": [
        "nb_credit_model_under = GaussianNB()\n",
        "nb_credit_model_under.fit(X_credit_train_under, y_credit_train_under)\n",
        "previsoes_under = nb_credit_model_under.predict(X_credit_test)"
      ],
      "metadata": {
        "id": "QJPxjZSucy4R"
      },
      "execution_count": 54,
      "outputs": []
    },
    {
      "cell_type": "code",
      "source": [
        "accuracy_score(y_credit_test, previsoes_under)"
      ],
      "metadata": {
        "colab": {
          "base_uri": "https://localhost:8080/"
        },
        "id": "GZLdl1JadXhG",
        "outputId": "799d5939-d5c9-4206-8b8e-f7f19e847727"
      },
      "execution_count": 55,
      "outputs": [
        {
          "output_type": "execute_result",
          "data": {
            "text/plain": [
              "0.43719312602291327"
            ]
          },
          "metadata": {},
          "execution_count": 55
        }
      ]
    },
    {
      "cell_type": "code",
      "source": [
        "confusion_matrix(y_credit_test, previsoes_under)"
      ],
      "metadata": {
        "colab": {
          "base_uri": "https://localhost:8080/"
        },
        "id": "RU_LJxO2dfDd",
        "outputId": "a9915490-61e3-486c-aaab-ff8faacc3933"
      },
      "execution_count": 56,
      "outputs": [
        {
          "output_type": "execute_result",
          "data": {
            "text/plain": [
              "array([[1241, 2640],\n",
              "       [ 111,  896]])"
            ]
          },
          "metadata": {},
          "execution_count": 56
        }
      ]
    },
    {
      "cell_type": "code",
      "source": [
        "print(classification_report(y_credit_test, previsoes_under))"
      ],
      "metadata": {
        "colab": {
          "base_uri": "https://localhost:8080/"
        },
        "id": "uZcXmMFxdonZ",
        "outputId": "ebcebeb8-81e2-472b-a38f-c130f23bb3d0"
      },
      "execution_count": 57,
      "outputs": [
        {
          "output_type": "stream",
          "name": "stdout",
          "text": [
            "              precision    recall  f1-score   support\n",
            "\n",
            "           0       0.92      0.32      0.47      3881\n",
            "           1       0.25      0.89      0.39      1007\n",
            "\n",
            "    accuracy                           0.44      4888\n",
            "   macro avg       0.59      0.60      0.43      4888\n",
            "weighted avg       0.78      0.44      0.46      4888\n",
            "\n"
          ]
        }
      ]
    },
    {
      "cell_type": "code",
      "source": [
        "with open('/content/drive/MyDrive/Colab Notebooks/credit_oversampling.pkl', 'wb') as f:\n",
        "  pickle.dump([X_credit_train_balanced, y_credit_train_balanced, X_credit_test, y_credit_test], f)"
      ],
      "metadata": {
        "id": "87KrrbZ4eFt5"
      },
      "execution_count": 59,
      "outputs": []
    },
    {
      "cell_type": "code",
      "source": [
        "with open('/content/drive/MyDrive/Colab Notebooks/credit_undersampling.pkl', 'wb') as f:\n",
        "  pickle.dump([X_credit_train_under, y_credit_train_under, X_credit_test, y_credit_test], f)"
      ],
      "metadata": {
        "id": "uAHFeZs9e6nW"
      },
      "execution_count": 60,
      "outputs": []
    }
  ]
}